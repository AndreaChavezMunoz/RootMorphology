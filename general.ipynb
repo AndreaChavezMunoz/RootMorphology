{
 "cells": [
  {
   "cell_type": "markdown",
   "metadata": {},
   "source": [
    "# Analysis de raíces"
   ]
  },
  {
   "cell_type": "markdown",
   "metadata": {},
   "source": [
    "## Configuración\n",
    "Las siguientes secciones contienen información que se utilizará más adelante en el código. En la primera parte, se importan todas las bibliotecas necesarias, y en la segunda parte, se desarrolla una función para visualizar las imágenes que se utilizarán más adelante en el código."
   ]
  },
  {
   "cell_type": "code",
   "execution_count": null,
   "metadata": {},
   "outputs": [],
   "source": [
    "# Import libraries\n",
    "from plantcv import plantcv as pcv \n",
    "from plantcv.parallel import WorkflowInputs\n",
    "from matplotlib import pyplot as plt\n",
    "from IPython.display import Image, display\n",
    "import cv2\n",
    "import numpy as np\n",
    "pcv.params.debug = \"None\""
   ]
  },
  {
   "cell_type": "code",
   "execution_count": null,
   "metadata": {},
   "outputs": [],
   "source": [
    "def img_disp(img_to_disp):\n",
    "    # Display image\n",
    "    _, img_png = cv2.imencode('.png', cv2.cvtColor(img_to_disp, cv2.COLOR_BGR2RGB))\n",
    "    display(Image(data=img_png.tobytes(), width=300))"
   ]
  },
  {
   "cell_type": "markdown",
   "metadata": {},
   "source": [
    "## Preprocesamiento de la imagen\n",
    "El primer paso en el proceso consiste en cargar la imagen, luego convertirla a escala de grises y binarizarla, es decir, cambiar todos los valores a 0 o 1. Finalmente, se reduce el ruido eliminando las imperfecciones alrededor."
   ]
  },
  {
   "cell_type": "code",
   "execution_count": null,
   "metadata": {},
   "outputs": [],
   "source": [
    "# Load the image \n",
    "img = cv2.imread('./data/root1C.jpeg') \n",
    "\n",
    "# Image converted from RGB to gray.\n",
    "gray = pcv.rgb2gray(rgb_img=img)\n",
    "img_disp(gray)\n"
   ]
  },
  {
   "cell_type": "markdown",
   "metadata": {},
   "source": [
    "### Binarizar la imagen\n",
    "Dependiendo del umbral utilizado para binarizar la imagen, podemos obtener una imagen más gruesa con más información sobre la raíz o más delgada, lo que reduce el ruido alrededor del borde difuso."
   ]
  },
  {
   "cell_type": "code",
   "execution_count": null,
   "metadata": {},
   "outputs": [],
   "source": [
    "gray_thresh_low = pcv.threshold.binary(gray_img=gray, threshold = 40, object_type='dark')\n",
    "gray_thresh_high = pcv.threshold.binary(gray_img=gray, threshold = 220, object_type='dark')\n",
    "\n",
    "# Show images\n",
    "img_disp(gray_thresh_low)\n",
    "\n",
    "img_disp(gray_thresh_high)"
   ]
  },
  {
   "cell_type": "markdown",
   "metadata": {},
   "source": [
    "### Recortar la imagen\n",
    "No toda la imagen contiene información útil, por lo que es importante recortarla. Por ahora, esto se hace de manera manual, pero es posible desarrollar funciones que realicen este proceso automáticamente, reduciendo el error humano."
   ]
  },
  {
   "cell_type": "code",
   "execution_count": null,
   "metadata": {},
   "outputs": [],
   "source": [
    "# Crop low threshold\n",
    "crop_gray_thresh_low = pcv.crop(img=gray_thresh_low, x=150, y=120, h=1300, w=700)\n",
    "img_disp(crop_gray_thresh_low)\n",
    "\n",
    "# Crop high threshold\n",
    "crop_gray_thresh_high = pcv.crop(img=gray_thresh_high, x=150, y=120, h=1300, w=700)\n",
    "img_disp(crop_gray_thresh_high)\n",
    "\n",
    "# Crop general image\n",
    "crop_img = pcv.crop(img=img, x=150, y=120, h=1300, w=700)\n",
    "img_disp(crop_img)"
   ]
  },
  {
   "cell_type": "markdown",
   "metadata": {},
   "source": [
    "### Ruido de fondo\n",
    "Para reducir el ruido de fondo, la imagen se dilata para asegurarnos de que toda la información de la raíz se conserve y cualquier parte de la raíz que pueda estar separada se adjunte correctamente. Después, todas las formas que tienen un tamaño menor a cierta medida, en este caso 100, se eliminan."
   ]
  },
  {
   "cell_type": "code",
   "execution_count": null,
   "metadata": {},
   "outputs": [],
   "source": [
    "mask_dilated = pcv.dilate(gray_img=crop_gray_thresh_low, ksize=2, i=1)\n",
    "mask_fill_low = pcv.fill(bin_img=mask_dilated, size=100)\n",
    "img_disp(mask_fill_low)\n",
    "\n",
    "mask_dilated = pcv.dilate(gray_img=crop_gray_thresh_high, ksize=2, i=1)\n",
    "mask_fill_high = pcv.fill(bin_img=mask_dilated, size=100)\n",
    "img_disp(mask_fill_high)\n"
   ]
  },
  {
   "cell_type": "markdown",
   "metadata": {},
   "source": [
    "## Analysis morphologico"
   ]
  },
  {
   "cell_type": "markdown",
   "metadata": {},
   "source": [
    "### Esqueletizar\n",
    "Convierte la máscara en un esqueleto de un píxel de ancho, que se puede utilizar para análisis morfológicos. El siguiente paso es podar las ramas. Generalmente, las imágenes esqueletizadas tendrán ramas que representan el ancho del material vegetal, que luego deben podarse. Basándose en los puntos donde el esqueleto se divide, es posible seleccionar diferentes secciones de la imagen y mostrarlas con colores distintos."
   ]
  },
  {
   "cell_type": "code",
   "execution_count": null,
   "metadata": {},
   "outputs": [],
   "source": [
    "skeleton_low = pcv.morphology.skeletonize(mask=mask_fill_low)\n",
    "pruned_skel_low, seg_img_low, edge_objects_low = pcv.morphology.prune(skel_img=skeleton_low, size=50, mask=skeleton_low)\n",
    "img_disp(pruned_skel_low)\n",
    "img_disp(seg_img_low)\n",
    "\n",
    "skeleton_high = pcv.morphology.skeletonize(mask=mask_fill_high)\n",
    "pruned_skel_high, seg_img_high, edge_objects_high = pcv.morphology.prune(skel_img=skeleton_high, size=50, mask=skeleton_high)\n",
    "img_disp(pruned_skel_high)\n",
    "img_disp(seg_img_high)"
   ]
  },
  {
   "cell_type": "markdown",
   "metadata": {},
   "source": [
    "### Encontrar el tamaño\n",
    "Para determinar el tamaño de la raíz, podemos utilizar la imagen binarizada para encontrar los contornos y luego calcular el área dentro de dichos contornos. También podemos ubicar un rectángulo alrededor de la raíz y encontrar la diagonal para medir la longitud. Esta forma de encontrar la longitud puede optimizarse en el futuro.\n"
   ]
  },
  {
   "cell_type": "code",
   "execution_count": null,
   "metadata": {},
   "outputs": [],
   "source": [
    "# Find the contours of the object  \n",
    "contours_low, hierarchy = cv2.findContours(mask_fill_low, cv2.RETR_TREE, cv2.CHAIN_APPROX_SIMPLE) \n",
    "contours_high, hierarchy = cv2.findContours(mask_fill_high, cv2.RETR_TREE, cv2.CHAIN_APPROX_SIMPLE) \n",
    "  \n",
    "# Draw the contours on the original image\n",
    "crop_img_low = crop_img.copy() \n",
    "cv2.drawContours(crop_img_low, contours_low, -1, (0,255,0), 3) \n",
    "crop_img_high = crop_img.copy() \n",
    "cv2.drawContours(crop_img_high, contours_high, -1, (0,255,0), 3) \n",
    "  \n",
    "# Display the image with the contours drawn \n",
    "img_disp(crop_img_low)\n",
    "img_disp(crop_img_high)"
   ]
  },
  {
   "cell_type": "code",
   "execution_count": null,
   "metadata": {},
   "outputs": [],
   "source": [
    "# Get rectangle around image\n",
    "rect = cv2.minAreaRect(contours_low[0])\n",
    "box_low = cv2.boxPoints(rect)\n",
    "box_low = np.int0(box_low)\n",
    "\n",
    "# Draw the rectangle on the image\n",
    "cv2.drawContours(crop_img_low, [box_low], 0, (0, 255, 0), 2)  # (0, 255, 0) is the color (green), and 2 is the thickness\n",
    "\n",
    "img_disp(crop_img_low)\n",
    "\n",
    "# Get rectangle around image\n",
    "rect = cv2.minAreaRect(contours_high[0])\n",
    "box_high = cv2.boxPoints(rect)\n",
    "box_high = np.int0(box_high)\n",
    "\n",
    "# Draw the rectangle on the image\n",
    "cv2.drawContours(crop_img_high, [box_high], 0, (0, 255, 0), 2)  # (0, 255, 0) is the color (green), and 2 is the thickness\n",
    "\n",
    "img_disp(crop_img_high)"
   ]
  },
  {
   "cell_type": "markdown",
   "metadata": {},
   "source": [
    "### Largo\n",
    "El codigo encutra la distancia entre las dos esquinas de la imagen"
   ]
  },
  {
   "cell_type": "code",
   "execution_count": null,
   "metadata": {},
   "outputs": [],
   "source": [
    "# Calculate the diagonal size of the box\n",
    "diagonal_size = np.linalg.norm(box_low[0] - box_low[2])\n",
    "print(f\"El tamaño de la raíz con un umbral bajo de binarización es de {round(diagonal_size,4)} px\")\n",
    "\n",
    "# Calculate the diagonal size of the box\n",
    "diagonal_size = np.linalg.norm(box_high[0] - box_high[2])\n",
    "print(f\"El tamaño de la raíz con un umbral alto de binarización es de {round(diagonal_size,4)} px\")"
   ]
  },
  {
   "cell_type": "markdown",
   "metadata": {},
   "source": [
    "### Area\n",
    "Cuenta el número de pixeles que no son 0"
   ]
  },
  {
   "cell_type": "code",
   "execution_count": null,
   "metadata": {},
   "outputs": [],
   "source": [
    "# Calculate the area of the selected contour\n",
    "contour_area = cv2.contourArea(contours_low[0])\n",
    "print(f\"El area de la raíz con un umbral bajp de binarización es de: {contour_area} px^2\")\n",
    "\n",
    "# Calculate the area of the selected contour\n",
    "contour_area = cv2.contourArea(contours_high[0])\n",
    "print(f\"El area de la raíz con un umbral alto de binarización es de: {contour_area} px^2\")\n"
   ]
  }
 ],
 "metadata": {
  "kernelspec": {
   "display_name": "plantcv",
   "language": "python",
   "name": "python3"
  },
  "language_info": {
   "codemirror_mode": {
    "name": "ipython",
    "version": 3
   },
   "file_extension": ".py",
   "mimetype": "text/x-python",
   "name": "python",
   "nbconvert_exporter": "python",
   "pygments_lexer": "ipython3",
   "version": "3.10.13"
  }
 },
 "nbformat": 4,
 "nbformat_minor": 2
}
